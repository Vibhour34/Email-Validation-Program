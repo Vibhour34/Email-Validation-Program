{
 "cells": [
  {
   "cell_type": "code",
   "execution_count": 3,
   "id": "9dd1afc3",
   "metadata": {},
   "outputs": [
    {
     "name": "stdout",
     "output_type": "stream",
     "text": [
      "Enter the email:vibhoursharma346@gmail.com\n",
      "Valid email\n"
     ]
    }
   ],
   "source": [
    "email=input(\"Enter the email:\")\n",
    "length=len(email)\n",
    "a=0\n",
    "b=0\n",
    "c=0\n",
    "if length>=5:\n",
    "    if (\"@\" in email) and (email.count(\"@\")==1):\n",
    "        if email[0].isalpha():\n",
    "            if (email[-4]==\".\") ^ (email[-3]==\".\"):\n",
    "                for k in email:\n",
    "                    if k==k.isspace():\n",
    "                        a=1\n",
    "                    elif k.isalpha():\n",
    "                        if k==k.upper():\n",
    "                            b=1\n",
    "                    elif k.isdigit():\n",
    "                        continue\n",
    "                    elif k==\"_\" or k==\".\" or k==\"@\":\n",
    "                        continue\n",
    "                    else:\n",
    "                        c=1\n",
    "                if a==1 or b==1 or c==1:\n",
    "                    print(\"Invalid email\")\n",
    "                else:\n",
    "                    print(\"Valid email\")\n",
    "            else:\n",
    "                print(\"Invalid email\")\n",
    "        else:\n",
    "            print(\"Invalid email\")\n",
    "    else:\n",
    "        print(\"Invalid email\")\n",
    "else:\n",
    "    print(\"Invalid email\")"
   ]
  }
 ],
 "metadata": {
  "kernelspec": {
   "display_name": "Python 3 (ipykernel)",
   "language": "python",
   "name": "python3"
  },
  "language_info": {
   "codemirror_mode": {
    "name": "ipython",
    "version": 3
   },
   "file_extension": ".py",
   "mimetype": "text/x-python",
   "name": "python",
   "nbconvert_exporter": "python",
   "pygments_lexer": "ipython3",
   "version": "3.11.5"
  }
 },
 "nbformat": 4,
 "nbformat_minor": 5
}
